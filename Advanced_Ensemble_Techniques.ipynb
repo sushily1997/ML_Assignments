{
  "nbformat": 4,
  "nbformat_minor": 0,
  "metadata": {
    "colab": {
      "provenance": [],
      "authorship_tag": "ABX9TyObwhtFqj6GbKpnn9L3fxnC",
      "include_colab_link": true
    },
    "kernelspec": {
      "name": "python3",
      "display_name": "Python 3"
    },
    "language_info": {
      "name": "python"
    }
  },
  "cells": [
    {
      "cell_type": "markdown",
      "metadata": {
        "id": "view-in-github",
        "colab_type": "text"
      },
      "source": [
        "<a href=\"https://colab.research.google.com/github/sushily1997/ML_Assignments/blob/main/Advanced_Ensemble_Techniques.ipynb\" target=\"_parent\"><img src=\"https://colab.research.google.com/assets/colab-badge.svg\" alt=\"Open In Colab\"/></a>"
      ]
    },
    {
      "cell_type": "markdown",
      "source": [
        "### Advanced Ensemble Techniques\n",
        "3.1 Stacking\n",
        "\n",
        "3.2 Blending\n",
        "\n",
        "3.3 Bagging\n",
        "\n",
        "3.4 Boosting"
      ],
      "metadata": {
        "id": "-eMSD4EtlvJx"
      }
    },
    {
      "cell_type": "code",
      "execution_count": null,
      "metadata": {
        "id": "A4MxkuKolee2",
        "colab": {
          "base_uri": "https://localhost:8080/"
        },
        "outputId": "247adc21-7125-4d78-89f1-09df70154acd"
      },
      "outputs": [
        {
          "output_type": "stream",
          "name": "stdout",
          "text": [
            "Looking in indexes: https://pypi.org/simple, https://us-python.pkg.dev/colab-wheels/public/simple/\n",
            "Requirement already satisfied: vecstack in /usr/local/lib/python3.7/dist-packages (0.4.0)\n",
            "Requirement already satisfied: scipy in /usr/local/lib/python3.7/dist-packages (from vecstack) (1.7.3)\n",
            "Requirement already satisfied: scikit-learn>=0.18 in /usr/local/lib/python3.7/dist-packages (from vecstack) (1.0.2)\n",
            "Requirement already satisfied: numpy in /usr/local/lib/python3.7/dist-packages (from vecstack) (1.21.6)\n",
            "Requirement already satisfied: joblib>=0.11 in /usr/local/lib/python3.7/dist-packages (from scikit-learn>=0.18->vecstack) (1.1.0)\n",
            "Requirement already satisfied: threadpoolctl>=2.0.0 in /usr/local/lib/python3.7/dist-packages (from scikit-learn>=0.18->vecstack) (3.1.0)\n"
          ]
        }
      ],
      "source": [
        "!pip install vecstack"
      ]
    },
    {
      "cell_type": "code",
      "source": [
        "import numpy as np\n",
        "import pandas as pd\n",
        "from sklearn.linear_model import LogisticRegression\n",
        "from sklearn.ensemble import VotingClassifier\n",
        "from sklearn.tree import DecisionTreeClassifier\n",
        "from sklearn.metrics import accuracy_score,mean_squared_error\n",
        "from sklearn.model_selection import train_test_split\n",
        "from sklearn.neighbors import KNeighborsClassifier\n",
        "from matplotlib import pyplot as plt\n",
        "from sklearn.ensemble import RandomForestClassifier\n",
        "import xgboost as xgb\n",
        "import seaborn as sns\n",
        "from sklearn import tree\n",
        "from sklearn.kernel_ridge import KernelRidge\n",
        "from xgboost import XGBClassifier\n",
        "from vecstack import stacking"
      ],
      "metadata": {
        "id": "z8QxTqViWasm"
      },
      "execution_count": null,
      "outputs": []
    },
    {
      "cell_type": "code",
      "source": [
        "from google.colab import drive\n",
        "drive.mount('/content/drive')"
      ],
      "metadata": {
        "id": "nCo70GbFbz5d",
        "outputId": "b34f812b-84e4-45b7-a535-d7554c1415e7",
        "colab": {
          "base_uri": "https://localhost:8080/"
        }
      },
      "execution_count": null,
      "outputs": [
        {
          "output_type": "stream",
          "name": "stdout",
          "text": [
            "Drive already mounted at /content/drive; to attempt to forcibly remount, call drive.mount(\"/content/drive\", force_remount=True).\n"
          ]
        }
      ]
    },
    {
      "cell_type": "code",
      "source": [
        "df=pd.read_csv('/content/drive/MyDrive/seeds_dataset.csv')\n",
        "df"
      ],
      "metadata": {
        "id": "_8Bk6-mib6oc",
        "outputId": "fa419bf7-29d8-49f8-ed69-8703d591d826",
        "colab": {
          "base_uri": "https://localhost:8080/",
          "height": 423
        }
      },
      "execution_count": null,
      "outputs": [
        {
          "output_type": "execute_result",
          "data": {
            "text/plain": [
              "      Area  Perimeter  Compactness  Length_of_ kernel  Width_of_kernel  \\\n",
              "0    15.26      14.84       0.8710              5.763            3.312   \n",
              "1    14.88      14.57       0.8811              5.554            3.333   \n",
              "2    14.29      14.09       0.9050              5.291            3.337   \n",
              "3    13.84      13.94       0.8955              5.324            3.379   \n",
              "4    16.14      14.99       0.9034              5.658            3.562   \n",
              "..     ...        ...          ...                ...              ...   \n",
              "205  12.19      13.20       0.8783              5.137            2.981   \n",
              "206  11.23      12.88       0.8511              5.140            2.795   \n",
              "207  13.20      13.66       0.8883              5.236            3.232   \n",
              "208  11.84      13.21       0.8521              5.175            2.836   \n",
              "209  12.30      13.34       0.8684              5.243            2.974   \n",
              "\n",
              "     Asymmetry_coefficient  Length_of_kernel_groove  Class_(1, 2, 3)  \n",
              "0                    2.221                    5.220                1  \n",
              "1                    1.018                    4.956                1  \n",
              "2                    2.699                    4.825                1  \n",
              "3                    2.259                    4.805                1  \n",
              "4                    1.355                    5.175                1  \n",
              "..                     ...                      ...              ...  \n",
              "205                  3.631                    4.870                3  \n",
              "206                  4.325                    5.003                3  \n",
              "207                  8.315                    5.056                3  \n",
              "208                  3.598                    5.044                3  \n",
              "209                  5.637                    5.063                3  \n",
              "\n",
              "[210 rows x 8 columns]"
            ],
            "text/html": [
              "\n",
              "  <div id=\"df-6b7ed6c0-013e-4471-b9a3-685e26c51a93\">\n",
              "    <div class=\"colab-df-container\">\n",
              "      <div>\n",
              "<style scoped>\n",
              "    .dataframe tbody tr th:only-of-type {\n",
              "        vertical-align: middle;\n",
              "    }\n",
              "\n",
              "    .dataframe tbody tr th {\n",
              "        vertical-align: top;\n",
              "    }\n",
              "\n",
              "    .dataframe thead th {\n",
              "        text-align: right;\n",
              "    }\n",
              "</style>\n",
              "<table border=\"1\" class=\"dataframe\">\n",
              "  <thead>\n",
              "    <tr style=\"text-align: right;\">\n",
              "      <th></th>\n",
              "      <th>Area</th>\n",
              "      <th>Perimeter</th>\n",
              "      <th>Compactness</th>\n",
              "      <th>Length_of_ kernel</th>\n",
              "      <th>Width_of_kernel</th>\n",
              "      <th>Asymmetry_coefficient</th>\n",
              "      <th>Length_of_kernel_groove</th>\n",
              "      <th>Class_(1, 2, 3)</th>\n",
              "    </tr>\n",
              "  </thead>\n",
              "  <tbody>\n",
              "    <tr>\n",
              "      <th>0</th>\n",
              "      <td>15.26</td>\n",
              "      <td>14.84</td>\n",
              "      <td>0.8710</td>\n",
              "      <td>5.763</td>\n",
              "      <td>3.312</td>\n",
              "      <td>2.221</td>\n",
              "      <td>5.220</td>\n",
              "      <td>1</td>\n",
              "    </tr>\n",
              "    <tr>\n",
              "      <th>1</th>\n",
              "      <td>14.88</td>\n",
              "      <td>14.57</td>\n",
              "      <td>0.8811</td>\n",
              "      <td>5.554</td>\n",
              "      <td>3.333</td>\n",
              "      <td>1.018</td>\n",
              "      <td>4.956</td>\n",
              "      <td>1</td>\n",
              "    </tr>\n",
              "    <tr>\n",
              "      <th>2</th>\n",
              "      <td>14.29</td>\n",
              "      <td>14.09</td>\n",
              "      <td>0.9050</td>\n",
              "      <td>5.291</td>\n",
              "      <td>3.337</td>\n",
              "      <td>2.699</td>\n",
              "      <td>4.825</td>\n",
              "      <td>1</td>\n",
              "    </tr>\n",
              "    <tr>\n",
              "      <th>3</th>\n",
              "      <td>13.84</td>\n",
              "      <td>13.94</td>\n",
              "      <td>0.8955</td>\n",
              "      <td>5.324</td>\n",
              "      <td>3.379</td>\n",
              "      <td>2.259</td>\n",
              "      <td>4.805</td>\n",
              "      <td>1</td>\n",
              "    </tr>\n",
              "    <tr>\n",
              "      <th>4</th>\n",
              "      <td>16.14</td>\n",
              "      <td>14.99</td>\n",
              "      <td>0.9034</td>\n",
              "      <td>5.658</td>\n",
              "      <td>3.562</td>\n",
              "      <td>1.355</td>\n",
              "      <td>5.175</td>\n",
              "      <td>1</td>\n",
              "    </tr>\n",
              "    <tr>\n",
              "      <th>...</th>\n",
              "      <td>...</td>\n",
              "      <td>...</td>\n",
              "      <td>...</td>\n",
              "      <td>...</td>\n",
              "      <td>...</td>\n",
              "      <td>...</td>\n",
              "      <td>...</td>\n",
              "      <td>...</td>\n",
              "    </tr>\n",
              "    <tr>\n",
              "      <th>205</th>\n",
              "      <td>12.19</td>\n",
              "      <td>13.20</td>\n",
              "      <td>0.8783</td>\n",
              "      <td>5.137</td>\n",
              "      <td>2.981</td>\n",
              "      <td>3.631</td>\n",
              "      <td>4.870</td>\n",
              "      <td>3</td>\n",
              "    </tr>\n",
              "    <tr>\n",
              "      <th>206</th>\n",
              "      <td>11.23</td>\n",
              "      <td>12.88</td>\n",
              "      <td>0.8511</td>\n",
              "      <td>5.140</td>\n",
              "      <td>2.795</td>\n",
              "      <td>4.325</td>\n",
              "      <td>5.003</td>\n",
              "      <td>3</td>\n",
              "    </tr>\n",
              "    <tr>\n",
              "      <th>207</th>\n",
              "      <td>13.20</td>\n",
              "      <td>13.66</td>\n",
              "      <td>0.8883</td>\n",
              "      <td>5.236</td>\n",
              "      <td>3.232</td>\n",
              "      <td>8.315</td>\n",
              "      <td>5.056</td>\n",
              "      <td>3</td>\n",
              "    </tr>\n",
              "    <tr>\n",
              "      <th>208</th>\n",
              "      <td>11.84</td>\n",
              "      <td>13.21</td>\n",
              "      <td>0.8521</td>\n",
              "      <td>5.175</td>\n",
              "      <td>2.836</td>\n",
              "      <td>3.598</td>\n",
              "      <td>5.044</td>\n",
              "      <td>3</td>\n",
              "    </tr>\n",
              "    <tr>\n",
              "      <th>209</th>\n",
              "      <td>12.30</td>\n",
              "      <td>13.34</td>\n",
              "      <td>0.8684</td>\n",
              "      <td>5.243</td>\n",
              "      <td>2.974</td>\n",
              "      <td>5.637</td>\n",
              "      <td>5.063</td>\n",
              "      <td>3</td>\n",
              "    </tr>\n",
              "  </tbody>\n",
              "</table>\n",
              "<p>210 rows × 8 columns</p>\n",
              "</div>\n",
              "      <button class=\"colab-df-convert\" onclick=\"convertToInteractive('df-6b7ed6c0-013e-4471-b9a3-685e26c51a93')\"\n",
              "              title=\"Convert this dataframe to an interactive table.\"\n",
              "              style=\"display:none;\">\n",
              "        \n",
              "  <svg xmlns=\"http://www.w3.org/2000/svg\" height=\"24px\"viewBox=\"0 0 24 24\"\n",
              "       width=\"24px\">\n",
              "    <path d=\"M0 0h24v24H0V0z\" fill=\"none\"/>\n",
              "    <path d=\"M18.56 5.44l.94 2.06.94-2.06 2.06-.94-2.06-.94-.94-2.06-.94 2.06-2.06.94zm-11 1L8.5 8.5l.94-2.06 2.06-.94-2.06-.94L8.5 2.5l-.94 2.06-2.06.94zm10 10l.94 2.06.94-2.06 2.06-.94-2.06-.94-.94-2.06-.94 2.06-2.06.94z\"/><path d=\"M17.41 7.96l-1.37-1.37c-.4-.4-.92-.59-1.43-.59-.52 0-1.04.2-1.43.59L10.3 9.45l-7.72 7.72c-.78.78-.78 2.05 0 2.83L4 21.41c.39.39.9.59 1.41.59.51 0 1.02-.2 1.41-.59l7.78-7.78 2.81-2.81c.8-.78.8-2.07 0-2.86zM5.41 20L4 18.59l7.72-7.72 1.47 1.35L5.41 20z\"/>\n",
              "  </svg>\n",
              "      </button>\n",
              "      \n",
              "  <style>\n",
              "    .colab-df-container {\n",
              "      display:flex;\n",
              "      flex-wrap:wrap;\n",
              "      gap: 12px;\n",
              "    }\n",
              "\n",
              "    .colab-df-convert {\n",
              "      background-color: #E8F0FE;\n",
              "      border: none;\n",
              "      border-radius: 50%;\n",
              "      cursor: pointer;\n",
              "      display: none;\n",
              "      fill: #1967D2;\n",
              "      height: 32px;\n",
              "      padding: 0 0 0 0;\n",
              "      width: 32px;\n",
              "    }\n",
              "\n",
              "    .colab-df-convert:hover {\n",
              "      background-color: #E2EBFA;\n",
              "      box-shadow: 0px 1px 2px rgba(60, 64, 67, 0.3), 0px 1px 3px 1px rgba(60, 64, 67, 0.15);\n",
              "      fill: #174EA6;\n",
              "    }\n",
              "\n",
              "    [theme=dark] .colab-df-convert {\n",
              "      background-color: #3B4455;\n",
              "      fill: #D2E3FC;\n",
              "    }\n",
              "\n",
              "    [theme=dark] .colab-df-convert:hover {\n",
              "      background-color: #434B5C;\n",
              "      box-shadow: 0px 1px 3px 1px rgba(0, 0, 0, 0.15);\n",
              "      filter: drop-shadow(0px 1px 2px rgba(0, 0, 0, 0.3));\n",
              "      fill: #FFFFFF;\n",
              "    }\n",
              "  </style>\n",
              "\n",
              "      <script>\n",
              "        const buttonEl =\n",
              "          document.querySelector('#df-6b7ed6c0-013e-4471-b9a3-685e26c51a93 button.colab-df-convert');\n",
              "        buttonEl.style.display =\n",
              "          google.colab.kernel.accessAllowed ? 'block' : 'none';\n",
              "\n",
              "        async function convertToInteractive(key) {\n",
              "          const element = document.querySelector('#df-6b7ed6c0-013e-4471-b9a3-685e26c51a93');\n",
              "          const dataTable =\n",
              "            await google.colab.kernel.invokeFunction('convertToInteractive',\n",
              "                                                     [key], {});\n",
              "          if (!dataTable) return;\n",
              "\n",
              "          const docLinkHtml = 'Like what you see? Visit the ' +\n",
              "            '<a target=\"_blank\" href=https://colab.research.google.com/notebooks/data_table.ipynb>data table notebook</a>'\n",
              "            + ' to learn more about interactive tables.';\n",
              "          element.innerHTML = '';\n",
              "          dataTable['output_type'] = 'display_data';\n",
              "          await google.colab.output.renderOutput(dataTable, element);\n",
              "          const docLink = document.createElement('div');\n",
              "          docLink.innerHTML = docLinkHtml;\n",
              "          element.appendChild(docLink);\n",
              "        }\n",
              "      </script>\n",
              "    </div>\n",
              "  </div>\n",
              "  "
            ]
          },
          "metadata": {},
          "execution_count": 116
        }
      ]
    },
    {
      "cell_type": "code",
      "source": [
        "df.info()"
      ],
      "metadata": {
        "id": "ihniCq-ucAmn",
        "outputId": "f014dfa8-17cc-4f20-fac3-ce1263a82cc4",
        "colab": {
          "base_uri": "https://localhost:8080/"
        }
      },
      "execution_count": null,
      "outputs": [
        {
          "output_type": "stream",
          "name": "stdout",
          "text": [
            "<class 'pandas.core.frame.DataFrame'>\n",
            "RangeIndex: 210 entries, 0 to 209\n",
            "Data columns (total 8 columns):\n",
            " #   Column                   Non-Null Count  Dtype  \n",
            "---  ------                   --------------  -----  \n",
            " 0   Area                     210 non-null    float64\n",
            " 1   Perimeter                210 non-null    float64\n",
            " 2   Compactness              210 non-null    float64\n",
            " 3   Length_of_ kernel        210 non-null    float64\n",
            " 4   Width_of_kernel          210 non-null    float64\n",
            " 5   Asymmetry_coefficient    210 non-null    float64\n",
            " 6   Length_of_kernel_groove  210 non-null    float64\n",
            " 7   Class_(1, 2, 3)          210 non-null    int64  \n",
            "dtypes: float64(7), int64(1)\n",
            "memory usage: 13.2 KB\n"
          ]
        }
      ]
    },
    {
      "cell_type": "code",
      "source": [
        "# Build Machine Learning Model\n",
        "#Lets create feature matrix X  and y labels\n",
        "x = df.drop(('Class_(1, 2, 3)'),axis=1)\n",
        "y = df['Class_(1, 2, 3)']\n",
        "\n",
        "print('x shape=', x.shape)\n",
        "print('y shape=', y.shape)"
      ],
      "metadata": {
        "colab": {
          "base_uri": "https://localhost:8080/"
        },
        "id": "S7hpRAW2oL_h",
        "outputId": "eb922ec7-5504-4ca6-d6a2-8b843e2c1373"
      },
      "execution_count": null,
      "outputs": [
        {
          "output_type": "stream",
          "name": "stdout",
          "text": [
            "x shape= (210, 7)\n",
            "y shape= (210,)\n"
          ]
        }
      ]
    },
    {
      "cell_type": "code",
      "source": [
        "df_min_max_scaled = x.copy()\n",
        "  \n",
        "# apply normalization techniques\n",
        "for column in df_min_max_scaled.columns:\n",
        "    df_min_max_scaled[column] = (df_min_max_scaled[column] - df_min_max_scaled[column].min()) / (df_min_max_scaled[column].max() - df_min_max_scaled[column].min())    \n",
        "  \n",
        "# view normalized data\n",
        "print(df_min_max_scaled)\n",
        "\n",
        "\n",
        "df2 = df_min_max_scaled"
      ],
      "metadata": {
        "colab": {
          "base_uri": "https://localhost:8080/"
        },
        "id": "manj7l3tobbQ",
        "outputId": "fa773d1e-b7a2-46cd-eb3f-2f47682b6b64"
      },
      "execution_count": null,
      "outputs": [
        {
          "output_type": "stream",
          "name": "stdout",
          "text": [
            "         Area  Perimeter  Compactness  Length_of_ kernel  Width_of_kernel  \\\n",
            "0    0.440982   0.502066     0.570780           0.486486         0.486101   \n",
            "1    0.405099   0.446281     0.662432           0.368806         0.501069   \n",
            "2    0.349386   0.347107     0.879310           0.220721         0.503920   \n",
            "3    0.306893   0.316116     0.793103           0.239302         0.533856   \n",
            "4    0.524079   0.533058     0.864791           0.427365         0.664291   \n",
            "..        ...        ...          ...                ...              ...   \n",
            "205  0.151086   0.163223     0.637024           0.134009         0.250178   \n",
            "206  0.060434   0.097107     0.390200           0.135698         0.117605   \n",
            "207  0.246459   0.258264     0.727768           0.189752         0.429081   \n",
            "208  0.118036   0.165289     0.399274           0.155405         0.146828   \n",
            "209  0.161473   0.192149     0.547187           0.193694         0.245189   \n",
            "\n",
            "     Asymmetry_coefficient  Length_of_kernel_groove  \n",
            "0                 0.189302                 0.345150  \n",
            "1                 0.032883                 0.215165  \n",
            "2                 0.251453                 0.150665  \n",
            "3                 0.194243                 0.140817  \n",
            "4                 0.076701                 0.322994  \n",
            "..                     ...                      ...  \n",
            "205               0.372635                 0.172821  \n",
            "206               0.462872                 0.238306  \n",
            "207               0.981667                 0.264402  \n",
            "208               0.368344                 0.258493  \n",
            "209               0.633463                 0.267848  \n",
            "\n",
            "[210 rows x 7 columns]\n"
          ]
        }
      ]
    },
    {
      "cell_type": "code",
      "source": [
        "# copy the data\n",
        "df_z_scaled = df.copy()\n",
        "  \n",
        "# apply normalization techniques\n",
        "for column in df_z_scaled.columns:\n",
        "    df_z_scaled[column] = (df_z_scaled[column] -\n",
        "                           df_z_scaled[column].mean()) / df_z_scaled[column].std()    \n",
        "  \n",
        "# view normalized data   \n",
        "display(df_z_scaled)"
      ],
      "metadata": {
        "colab": {
          "base_uri": "https://localhost:8080/",
          "height": 423
        },
        "id": "54f_y4zmuru3",
        "outputId": "430861d4-ebca-4ad5-a3a8-36408366e709"
      },
      "execution_count": null,
      "outputs": [
        {
          "output_type": "display_data",
          "data": {
            "text/plain": [
              "         Area  Perimeter  Compactness  Length_of_ kernel  Width_of_kernel  \\\n",
              "0    0.141759   0.214949     0.000060           0.303493         0.141364   \n",
              "1    0.011161   0.008204     0.427494          -0.168223         0.196962   \n",
              "2   -0.191609  -0.359342     1.438945          -0.761817         0.207552   \n",
              "3   -0.346264  -0.474200     1.036904          -0.687336         0.318747   \n",
              "4    0.444196   0.329807     1.371233           0.066507         0.803240   \n",
              "..        ...        ...          ...                ...              ...   \n",
              "205 -0.913333  -1.040834     0.308997          -1.109397        -0.734959   \n",
              "206 -1.243264  -1.285864    -0.842110          -1.102626        -1.227395   \n",
              "207 -0.566218  -0.688602     0.732199          -0.885953        -0.070436   \n",
              "208 -1.033620  -1.033176    -0.799790          -1.023631        -1.118847   \n",
              "209 -0.875528  -0.933633    -0.109972          -0.870154        -0.753492   \n",
              "\n",
              "     Asymmetry_coefficient  Length_of_kernel_groove  Class_(1, 2, 3)  \n",
              "0                -0.983801                -0.382663        -1.221825  \n",
              "1                -1.783904                -0.919816        -1.221825  \n",
              "2                -0.665888                -1.186357        -1.221825  \n",
              "3                -0.958528                -1.227051        -1.221825  \n",
              "4                -1.559768                -0.474223        -1.221825  \n",
              "..                     ...                      ...              ...  \n",
              "205              -0.046025                -1.094797         1.221825  \n",
              "206               0.415547                -0.824186         1.221825  \n",
              "207               3.069254                -0.716349         1.221825  \n",
              "208              -0.067973                -0.740765         1.221825  \n",
              "209               1.288145                -0.702106         1.221825  \n",
              "\n",
              "[210 rows x 8 columns]"
            ],
            "text/html": [
              "\n",
              "  <div id=\"df-48bf1a03-2e5d-4025-a304-94dfe36291d8\">\n",
              "    <div class=\"colab-df-container\">\n",
              "      <div>\n",
              "<style scoped>\n",
              "    .dataframe tbody tr th:only-of-type {\n",
              "        vertical-align: middle;\n",
              "    }\n",
              "\n",
              "    .dataframe tbody tr th {\n",
              "        vertical-align: top;\n",
              "    }\n",
              "\n",
              "    .dataframe thead th {\n",
              "        text-align: right;\n",
              "    }\n",
              "</style>\n",
              "<table border=\"1\" class=\"dataframe\">\n",
              "  <thead>\n",
              "    <tr style=\"text-align: right;\">\n",
              "      <th></th>\n",
              "      <th>Area</th>\n",
              "      <th>Perimeter</th>\n",
              "      <th>Compactness</th>\n",
              "      <th>Length_of_ kernel</th>\n",
              "      <th>Width_of_kernel</th>\n",
              "      <th>Asymmetry_coefficient</th>\n",
              "      <th>Length_of_kernel_groove</th>\n",
              "      <th>Class_(1, 2, 3)</th>\n",
              "    </tr>\n",
              "  </thead>\n",
              "  <tbody>\n",
              "    <tr>\n",
              "      <th>0</th>\n",
              "      <td>0.141759</td>\n",
              "      <td>0.214949</td>\n",
              "      <td>0.000060</td>\n",
              "      <td>0.303493</td>\n",
              "      <td>0.141364</td>\n",
              "      <td>-0.983801</td>\n",
              "      <td>-0.382663</td>\n",
              "      <td>-1.221825</td>\n",
              "    </tr>\n",
              "    <tr>\n",
              "      <th>1</th>\n",
              "      <td>0.011161</td>\n",
              "      <td>0.008204</td>\n",
              "      <td>0.427494</td>\n",
              "      <td>-0.168223</td>\n",
              "      <td>0.196962</td>\n",
              "      <td>-1.783904</td>\n",
              "      <td>-0.919816</td>\n",
              "      <td>-1.221825</td>\n",
              "    </tr>\n",
              "    <tr>\n",
              "      <th>2</th>\n",
              "      <td>-0.191609</td>\n",
              "      <td>-0.359342</td>\n",
              "      <td>1.438945</td>\n",
              "      <td>-0.761817</td>\n",
              "      <td>0.207552</td>\n",
              "      <td>-0.665888</td>\n",
              "      <td>-1.186357</td>\n",
              "      <td>-1.221825</td>\n",
              "    </tr>\n",
              "    <tr>\n",
              "      <th>3</th>\n",
              "      <td>-0.346264</td>\n",
              "      <td>-0.474200</td>\n",
              "      <td>1.036904</td>\n",
              "      <td>-0.687336</td>\n",
              "      <td>0.318747</td>\n",
              "      <td>-0.958528</td>\n",
              "      <td>-1.227051</td>\n",
              "      <td>-1.221825</td>\n",
              "    </tr>\n",
              "    <tr>\n",
              "      <th>4</th>\n",
              "      <td>0.444196</td>\n",
              "      <td>0.329807</td>\n",
              "      <td>1.371233</td>\n",
              "      <td>0.066507</td>\n",
              "      <td>0.803240</td>\n",
              "      <td>-1.559768</td>\n",
              "      <td>-0.474223</td>\n",
              "      <td>-1.221825</td>\n",
              "    </tr>\n",
              "    <tr>\n",
              "      <th>...</th>\n",
              "      <td>...</td>\n",
              "      <td>...</td>\n",
              "      <td>...</td>\n",
              "      <td>...</td>\n",
              "      <td>...</td>\n",
              "      <td>...</td>\n",
              "      <td>...</td>\n",
              "      <td>...</td>\n",
              "    </tr>\n",
              "    <tr>\n",
              "      <th>205</th>\n",
              "      <td>-0.913333</td>\n",
              "      <td>-1.040834</td>\n",
              "      <td>0.308997</td>\n",
              "      <td>-1.109397</td>\n",
              "      <td>-0.734959</td>\n",
              "      <td>-0.046025</td>\n",
              "      <td>-1.094797</td>\n",
              "      <td>1.221825</td>\n",
              "    </tr>\n",
              "    <tr>\n",
              "      <th>206</th>\n",
              "      <td>-1.243264</td>\n",
              "      <td>-1.285864</td>\n",
              "      <td>-0.842110</td>\n",
              "      <td>-1.102626</td>\n",
              "      <td>-1.227395</td>\n",
              "      <td>0.415547</td>\n",
              "      <td>-0.824186</td>\n",
              "      <td>1.221825</td>\n",
              "    </tr>\n",
              "    <tr>\n",
              "      <th>207</th>\n",
              "      <td>-0.566218</td>\n",
              "      <td>-0.688602</td>\n",
              "      <td>0.732199</td>\n",
              "      <td>-0.885953</td>\n",
              "      <td>-0.070436</td>\n",
              "      <td>3.069254</td>\n",
              "      <td>-0.716349</td>\n",
              "      <td>1.221825</td>\n",
              "    </tr>\n",
              "    <tr>\n",
              "      <th>208</th>\n",
              "      <td>-1.033620</td>\n",
              "      <td>-1.033176</td>\n",
              "      <td>-0.799790</td>\n",
              "      <td>-1.023631</td>\n",
              "      <td>-1.118847</td>\n",
              "      <td>-0.067973</td>\n",
              "      <td>-0.740765</td>\n",
              "      <td>1.221825</td>\n",
              "    </tr>\n",
              "    <tr>\n",
              "      <th>209</th>\n",
              "      <td>-0.875528</td>\n",
              "      <td>-0.933633</td>\n",
              "      <td>-0.109972</td>\n",
              "      <td>-0.870154</td>\n",
              "      <td>-0.753492</td>\n",
              "      <td>1.288145</td>\n",
              "      <td>-0.702106</td>\n",
              "      <td>1.221825</td>\n",
              "    </tr>\n",
              "  </tbody>\n",
              "</table>\n",
              "<p>210 rows × 8 columns</p>\n",
              "</div>\n",
              "      <button class=\"colab-df-convert\" onclick=\"convertToInteractive('df-48bf1a03-2e5d-4025-a304-94dfe36291d8')\"\n",
              "              title=\"Convert this dataframe to an interactive table.\"\n",
              "              style=\"display:none;\">\n",
              "        \n",
              "  <svg xmlns=\"http://www.w3.org/2000/svg\" height=\"24px\"viewBox=\"0 0 24 24\"\n",
              "       width=\"24px\">\n",
              "    <path d=\"M0 0h24v24H0V0z\" fill=\"none\"/>\n",
              "    <path d=\"M18.56 5.44l.94 2.06.94-2.06 2.06-.94-2.06-.94-.94-2.06-.94 2.06-2.06.94zm-11 1L8.5 8.5l.94-2.06 2.06-.94-2.06-.94L8.5 2.5l-.94 2.06-2.06.94zm10 10l.94 2.06.94-2.06 2.06-.94-2.06-.94-.94-2.06-.94 2.06-2.06.94z\"/><path d=\"M17.41 7.96l-1.37-1.37c-.4-.4-.92-.59-1.43-.59-.52 0-1.04.2-1.43.59L10.3 9.45l-7.72 7.72c-.78.78-.78 2.05 0 2.83L4 21.41c.39.39.9.59 1.41.59.51 0 1.02-.2 1.41-.59l7.78-7.78 2.81-2.81c.8-.78.8-2.07 0-2.86zM5.41 20L4 18.59l7.72-7.72 1.47 1.35L5.41 20z\"/>\n",
              "  </svg>\n",
              "      </button>\n",
              "      \n",
              "  <style>\n",
              "    .colab-df-container {\n",
              "      display:flex;\n",
              "      flex-wrap:wrap;\n",
              "      gap: 12px;\n",
              "    }\n",
              "\n",
              "    .colab-df-convert {\n",
              "      background-color: #E8F0FE;\n",
              "      border: none;\n",
              "      border-radius: 50%;\n",
              "      cursor: pointer;\n",
              "      display: none;\n",
              "      fill: #1967D2;\n",
              "      height: 32px;\n",
              "      padding: 0 0 0 0;\n",
              "      width: 32px;\n",
              "    }\n",
              "\n",
              "    .colab-df-convert:hover {\n",
              "      background-color: #E2EBFA;\n",
              "      box-shadow: 0px 1px 2px rgba(60, 64, 67, 0.3), 0px 1px 3px 1px rgba(60, 64, 67, 0.15);\n",
              "      fill: #174EA6;\n",
              "    }\n",
              "\n",
              "    [theme=dark] .colab-df-convert {\n",
              "      background-color: #3B4455;\n",
              "      fill: #D2E3FC;\n",
              "    }\n",
              "\n",
              "    [theme=dark] .colab-df-convert:hover {\n",
              "      background-color: #434B5C;\n",
              "      box-shadow: 0px 1px 3px 1px rgba(0, 0, 0, 0.15);\n",
              "      filter: drop-shadow(0px 1px 2px rgba(0, 0, 0, 0.3));\n",
              "      fill: #FFFFFF;\n",
              "    }\n",
              "  </style>\n",
              "\n",
              "      <script>\n",
              "        const buttonEl =\n",
              "          document.querySelector('#df-48bf1a03-2e5d-4025-a304-94dfe36291d8 button.colab-df-convert');\n",
              "        buttonEl.style.display =\n",
              "          google.colab.kernel.accessAllowed ? 'block' : 'none';\n",
              "\n",
              "        async function convertToInteractive(key) {\n",
              "          const element = document.querySelector('#df-48bf1a03-2e5d-4025-a304-94dfe36291d8');\n",
              "          const dataTable =\n",
              "            await google.colab.kernel.invokeFunction('convertToInteractive',\n",
              "                                                     [key], {});\n",
              "          if (!dataTable) return;\n",
              "\n",
              "          const docLinkHtml = 'Like what you see? Visit the ' +\n",
              "            '<a target=\"_blank\" href=https://colab.research.google.com/notebooks/data_table.ipynb>data table notebook</a>'\n",
              "            + ' to learn more about interactive tables.';\n",
              "          element.innerHTML = '';\n",
              "          dataTable['output_type'] = 'display_data';\n",
              "          await google.colab.output.renderOutput(dataTable, element);\n",
              "          const docLink = document.createElement('div');\n",
              "          docLink.innerHTML = docLinkHtml;\n",
              "          element.appendChild(docLink);\n",
              "        }\n",
              "      </script>\n",
              "    </div>\n",
              "  </div>\n",
              "  "
            ]
          },
          "metadata": {}
        }
      ]
    },
    {
      "cell_type": "code",
      "source": [
        "# copy the data\n",
        "df_max_scaled = df.copy()\n",
        "  \n",
        "# apply normalization techniques\n",
        "for column in df_max_scaled.columns:\n",
        "    df_max_scaled[column] = df_max_scaled[column]  / df_max_scaled[column].abs().max()\n",
        "      \n",
        "# view normalized data\n",
        "display(df_max_scaled)"
      ],
      "metadata": {
        "colab": {
          "base_uri": "https://localhost:8080/",
          "height": 423
        },
        "id": "gGMPDo6auxHF",
        "outputId": "2ab4ef0f-1626-4ad4-d97c-d3e92f2022c2"
      },
      "execution_count": null,
      "outputs": [
        {
          "output_type": "display_data",
          "data": {
            "text/plain": [
              "         Area  Perimeter  Compactness  Length_of_ kernel  Width_of_kernel  \\\n",
              "0    0.720491   0.860290     0.948492           0.863371         0.821225   \n",
              "1    0.702550   0.844638     0.959490           0.832060         0.826432   \n",
              "2    0.674693   0.816812     0.985517           0.792659         0.827424   \n",
              "3    0.653447   0.808116     0.975172           0.797603         0.837838   \n",
              "4    0.762040   0.868986     0.983774           0.847640         0.883213   \n",
              "..        ...        ...          ...                ...              ...   \n",
              "205  0.575543   0.765217     0.956441           0.769588         0.739152   \n",
              "206  0.530217   0.746667     0.926821           0.770037         0.693032   \n",
              "207  0.623229   0.791884     0.967331           0.784419         0.801389   \n",
              "208  0.559018   0.765797     0.927910           0.775281         0.703199   \n",
              "209  0.580737   0.773333     0.945660           0.785468         0.737416   \n",
              "\n",
              "     Asymmetry_coefficient  Length_of_kernel_groove  Class_(1, 2, 3)  \n",
              "0                 0.262654                 0.796947         0.333333  \n",
              "1                 0.120388                 0.756641         0.333333  \n",
              "2                 0.319182                 0.736641         0.333333  \n",
              "3                 0.267148                 0.733588         0.333333  \n",
              "4                 0.160241                 0.790076         0.333333  \n",
              "..                     ...                      ...              ...  \n",
              "205               0.429399                 0.743511         1.000000  \n",
              "206               0.511471                 0.763817         1.000000  \n",
              "207               0.983325                 0.771908         1.000000  \n",
              "208               0.425497                 0.770076         1.000000  \n",
              "209               0.666627                 0.772977         1.000000  \n",
              "\n",
              "[210 rows x 8 columns]"
            ],
            "text/html": [
              "\n",
              "  <div id=\"df-54ffa417-ed21-45d0-b7cb-5fea324b0b7f\">\n",
              "    <div class=\"colab-df-container\">\n",
              "      <div>\n",
              "<style scoped>\n",
              "    .dataframe tbody tr th:only-of-type {\n",
              "        vertical-align: middle;\n",
              "    }\n",
              "\n",
              "    .dataframe tbody tr th {\n",
              "        vertical-align: top;\n",
              "    }\n",
              "\n",
              "    .dataframe thead th {\n",
              "        text-align: right;\n",
              "    }\n",
              "</style>\n",
              "<table border=\"1\" class=\"dataframe\">\n",
              "  <thead>\n",
              "    <tr style=\"text-align: right;\">\n",
              "      <th></th>\n",
              "      <th>Area</th>\n",
              "      <th>Perimeter</th>\n",
              "      <th>Compactness</th>\n",
              "      <th>Length_of_ kernel</th>\n",
              "      <th>Width_of_kernel</th>\n",
              "      <th>Asymmetry_coefficient</th>\n",
              "      <th>Length_of_kernel_groove</th>\n",
              "      <th>Class_(1, 2, 3)</th>\n",
              "    </tr>\n",
              "  </thead>\n",
              "  <tbody>\n",
              "    <tr>\n",
              "      <th>0</th>\n",
              "      <td>0.720491</td>\n",
              "      <td>0.860290</td>\n",
              "      <td>0.948492</td>\n",
              "      <td>0.863371</td>\n",
              "      <td>0.821225</td>\n",
              "      <td>0.262654</td>\n",
              "      <td>0.796947</td>\n",
              "      <td>0.333333</td>\n",
              "    </tr>\n",
              "    <tr>\n",
              "      <th>1</th>\n",
              "      <td>0.702550</td>\n",
              "      <td>0.844638</td>\n",
              "      <td>0.959490</td>\n",
              "      <td>0.832060</td>\n",
              "      <td>0.826432</td>\n",
              "      <td>0.120388</td>\n",
              "      <td>0.756641</td>\n",
              "      <td>0.333333</td>\n",
              "    </tr>\n",
              "    <tr>\n",
              "      <th>2</th>\n",
              "      <td>0.674693</td>\n",
              "      <td>0.816812</td>\n",
              "      <td>0.985517</td>\n",
              "      <td>0.792659</td>\n",
              "      <td>0.827424</td>\n",
              "      <td>0.319182</td>\n",
              "      <td>0.736641</td>\n",
              "      <td>0.333333</td>\n",
              "    </tr>\n",
              "    <tr>\n",
              "      <th>3</th>\n",
              "      <td>0.653447</td>\n",
              "      <td>0.808116</td>\n",
              "      <td>0.975172</td>\n",
              "      <td>0.797603</td>\n",
              "      <td>0.837838</td>\n",
              "      <td>0.267148</td>\n",
              "      <td>0.733588</td>\n",
              "      <td>0.333333</td>\n",
              "    </tr>\n",
              "    <tr>\n",
              "      <th>4</th>\n",
              "      <td>0.762040</td>\n",
              "      <td>0.868986</td>\n",
              "      <td>0.983774</td>\n",
              "      <td>0.847640</td>\n",
              "      <td>0.883213</td>\n",
              "      <td>0.160241</td>\n",
              "      <td>0.790076</td>\n",
              "      <td>0.333333</td>\n",
              "    </tr>\n",
              "    <tr>\n",
              "      <th>...</th>\n",
              "      <td>...</td>\n",
              "      <td>...</td>\n",
              "      <td>...</td>\n",
              "      <td>...</td>\n",
              "      <td>...</td>\n",
              "      <td>...</td>\n",
              "      <td>...</td>\n",
              "      <td>...</td>\n",
              "    </tr>\n",
              "    <tr>\n",
              "      <th>205</th>\n",
              "      <td>0.575543</td>\n",
              "      <td>0.765217</td>\n",
              "      <td>0.956441</td>\n",
              "      <td>0.769588</td>\n",
              "      <td>0.739152</td>\n",
              "      <td>0.429399</td>\n",
              "      <td>0.743511</td>\n",
              "      <td>1.000000</td>\n",
              "    </tr>\n",
              "    <tr>\n",
              "      <th>206</th>\n",
              "      <td>0.530217</td>\n",
              "      <td>0.746667</td>\n",
              "      <td>0.926821</td>\n",
              "      <td>0.770037</td>\n",
              "      <td>0.693032</td>\n",
              "      <td>0.511471</td>\n",
              "      <td>0.763817</td>\n",
              "      <td>1.000000</td>\n",
              "    </tr>\n",
              "    <tr>\n",
              "      <th>207</th>\n",
              "      <td>0.623229</td>\n",
              "      <td>0.791884</td>\n",
              "      <td>0.967331</td>\n",
              "      <td>0.784419</td>\n",
              "      <td>0.801389</td>\n",
              "      <td>0.983325</td>\n",
              "      <td>0.771908</td>\n",
              "      <td>1.000000</td>\n",
              "    </tr>\n",
              "    <tr>\n",
              "      <th>208</th>\n",
              "      <td>0.559018</td>\n",
              "      <td>0.765797</td>\n",
              "      <td>0.927910</td>\n",
              "      <td>0.775281</td>\n",
              "      <td>0.703199</td>\n",
              "      <td>0.425497</td>\n",
              "      <td>0.770076</td>\n",
              "      <td>1.000000</td>\n",
              "    </tr>\n",
              "    <tr>\n",
              "      <th>209</th>\n",
              "      <td>0.580737</td>\n",
              "      <td>0.773333</td>\n",
              "      <td>0.945660</td>\n",
              "      <td>0.785468</td>\n",
              "      <td>0.737416</td>\n",
              "      <td>0.666627</td>\n",
              "      <td>0.772977</td>\n",
              "      <td>1.000000</td>\n",
              "    </tr>\n",
              "  </tbody>\n",
              "</table>\n",
              "<p>210 rows × 8 columns</p>\n",
              "</div>\n",
              "      <button class=\"colab-df-convert\" onclick=\"convertToInteractive('df-54ffa417-ed21-45d0-b7cb-5fea324b0b7f')\"\n",
              "              title=\"Convert this dataframe to an interactive table.\"\n",
              "              style=\"display:none;\">\n",
              "        \n",
              "  <svg xmlns=\"http://www.w3.org/2000/svg\" height=\"24px\"viewBox=\"0 0 24 24\"\n",
              "       width=\"24px\">\n",
              "    <path d=\"M0 0h24v24H0V0z\" fill=\"none\"/>\n",
              "    <path d=\"M18.56 5.44l.94 2.06.94-2.06 2.06-.94-2.06-.94-.94-2.06-.94 2.06-2.06.94zm-11 1L8.5 8.5l.94-2.06 2.06-.94-2.06-.94L8.5 2.5l-.94 2.06-2.06.94zm10 10l.94 2.06.94-2.06 2.06-.94-2.06-.94-.94-2.06-.94 2.06-2.06.94z\"/><path d=\"M17.41 7.96l-1.37-1.37c-.4-.4-.92-.59-1.43-.59-.52 0-1.04.2-1.43.59L10.3 9.45l-7.72 7.72c-.78.78-.78 2.05 0 2.83L4 21.41c.39.39.9.59 1.41.59.51 0 1.02-.2 1.41-.59l7.78-7.78 2.81-2.81c.8-.78.8-2.07 0-2.86zM5.41 20L4 18.59l7.72-7.72 1.47 1.35L5.41 20z\"/>\n",
              "  </svg>\n",
              "      </button>\n",
              "      \n",
              "  <style>\n",
              "    .colab-df-container {\n",
              "      display:flex;\n",
              "      flex-wrap:wrap;\n",
              "      gap: 12px;\n",
              "    }\n",
              "\n",
              "    .colab-df-convert {\n",
              "      background-color: #E8F0FE;\n",
              "      border: none;\n",
              "      border-radius: 50%;\n",
              "      cursor: pointer;\n",
              "      display: none;\n",
              "      fill: #1967D2;\n",
              "      height: 32px;\n",
              "      padding: 0 0 0 0;\n",
              "      width: 32px;\n",
              "    }\n",
              "\n",
              "    .colab-df-convert:hover {\n",
              "      background-color: #E2EBFA;\n",
              "      box-shadow: 0px 1px 2px rgba(60, 64, 67, 0.3), 0px 1px 3px 1px rgba(60, 64, 67, 0.15);\n",
              "      fill: #174EA6;\n",
              "    }\n",
              "\n",
              "    [theme=dark] .colab-df-convert {\n",
              "      background-color: #3B4455;\n",
              "      fill: #D2E3FC;\n",
              "    }\n",
              "\n",
              "    [theme=dark] .colab-df-convert:hover {\n",
              "      background-color: #434B5C;\n",
              "      box-shadow: 0px 1px 3px 1px rgba(0, 0, 0, 0.15);\n",
              "      filter: drop-shadow(0px 1px 2px rgba(0, 0, 0, 0.3));\n",
              "      fill: #FFFFFF;\n",
              "    }\n",
              "  </style>\n",
              "\n",
              "      <script>\n",
              "        const buttonEl =\n",
              "          document.querySelector('#df-54ffa417-ed21-45d0-b7cb-5fea324b0b7f button.colab-df-convert');\n",
              "        buttonEl.style.display =\n",
              "          google.colab.kernel.accessAllowed ? 'block' : 'none';\n",
              "\n",
              "        async function convertToInteractive(key) {\n",
              "          const element = document.querySelector('#df-54ffa417-ed21-45d0-b7cb-5fea324b0b7f');\n",
              "          const dataTable =\n",
              "            await google.colab.kernel.invokeFunction('convertToInteractive',\n",
              "                                                     [key], {});\n",
              "          if (!dataTable) return;\n",
              "\n",
              "          const docLinkHtml = 'Like what you see? Visit the ' +\n",
              "            '<a target=\"_blank\" href=https://colab.research.google.com/notebooks/data_table.ipynb>data table notebook</a>'\n",
              "            + ' to learn more about interactive tables.';\n",
              "          element.innerHTML = '';\n",
              "          dataTable['output_type'] = 'display_data';\n",
              "          await google.colab.output.renderOutput(dataTable, element);\n",
              "          const docLink = document.createElement('div');\n",
              "          docLink.innerHTML = docLinkHtml;\n",
              "          element.appendChild(docLink);\n",
              "        }\n",
              "      </script>\n",
              "    </div>\n",
              "  </div>\n",
              "  "
            ]
          },
          "metadata": {}
        }
      ]
    },
    {
      "cell_type": "markdown",
      "source": [
        "**Evaluating model performance**"
      ],
      "metadata": {
        "id": "CkbV30wg_Wk1"
      }
    },
    {
      "cell_type": "code",
      "source": [
        "df=df.sample(frac=1,random_state=3)\n",
        "y=df['Class_(1, 2, 3)']\n",
        "x=df.drop('Class_(1, 2, 3)',axis=1)"
      ],
      "metadata": {
        "id": "BRT2Yjny4Ngo"
      },
      "execution_count": null,
      "outputs": []
    },
    {
      "cell_type": "code",
      "source": [
        "print('x shape=', x.shape)\n",
        "print('y shape=', y.shape)"
      ],
      "metadata": {
        "colab": {
          "base_uri": "https://localhost:8080/"
        },
        "id": "t5lQh8kt8BaC",
        "outputId": "ea2678c1-517d-4dc3-d96f-0af17d86c758"
      },
      "execution_count": null,
      "outputs": [
        {
          "output_type": "stream",
          "name": "stdout",
          "text": [
            "x shape= (210, 7)\n",
            "y shape= (210,)\n"
          ]
        }
      ]
    },
    {
      "cell_type": "code",
      "source": [
        "# columns = copy.deepcopy(numeric_features)\n",
        "# columns.append('y')\n",
        "# data = df_train_org[columns]\n",
        "mask = np.triu(df.corr(), 1)\n",
        "plt.figure(figsize=(19, 9))\n",
        "sns.heatmap(df.corr(), annot=True, vmax=1, vmin=-1, square=True, cmap='BrBG', mask=mask);"
      ],
      "metadata": {
        "colab": {
          "base_uri": "https://localhost:8080/",
          "height": 655
        },
        "id": "Ez0X3nsuvZ3S",
        "outputId": "e67c546c-bbc4-4bbd-b950-d6009d4356d3"
      },
      "execution_count": null,
      "outputs": [
        {
          "output_type": "display_data",
          "data": {
            "text/plain": [
              "<Figure size 1368x648 with 2 Axes>"
            ],
            "image/png": "[encoded data removed]"
          },
          "metadata": {
            "needs_background": "light"
          }
        }
      ]
    },
    {
      "cell_type": "markdown",
      "source": [
        "**VIF**"
      ],
      "metadata": {
        "id": "zDdDLX7Dkt6g"
      }
    },
    {
      "cell_type": "code",
      "source": [
        "import statsmodels.api as sm\n",
        "from statsmodels.stats.outliers_influence import variance_inflation_factor\n",
        "\n",
        "#X = df[list(df.columns[:-1])]\n",
        "\n",
        "vif_info = pd.DataFrame()\n",
        "vif_info['VIF'] = [variance_inflation_factor(x.values, i) for i in range(x.shape[1])]\n",
        "vif_info['Column'] = x.columns\n",
        "vif_info.sort_values('VIF', ascending=False)"
      ],
      "metadata": {
        "colab": {
          "base_uri": "https://localhost:8080/",
          "height": 269
        },
        "id": "X2XFsGewvjYO",
        "outputId": "7947f19d-5ce2-4a8d-822f-19e1dd096b61"
      },
      "execution_count": null,
      "outputs": [
        {
          "output_type": "execute_result",
          "data": {
            "text/plain": [
              "            VIF                   Column\n",
              "1  19479.829297                Perimeter\n",
              "3   8025.164434        Length_of_ kernel\n",
              "4   7906.280941          Width_of_kernel\n",
              "2   5682.282348              Compactness\n",
              "0   5096.572464                     Area\n",
              "6   1324.319458  Length_of_kernel_groove\n",
              "5      9.453784    Asymmetry_coefficient"
            ],
            "text/html": [
              "\n",
              "  <div id=\"df-72003d60-9848-41ff-8769-67611b016660\">\n",
              "    <div class=\"colab-df-container\">\n",
              "      <div>\n",
              "<style scoped>\n",
              "    .dataframe tbody tr th:only-of-type {\n",
              "        vertical-align: middle;\n",
              "    }\n",
              "\n",
              "    .dataframe tbody tr th {\n",
              "        vertical-align: top;\n",
              "    }\n",
              "\n",
              "    .dataframe thead th {\n",
              "        text-align: right;\n",
              "    }\n",
              "</style>\n",
              "<table border=\"1\" class=\"dataframe\">\n",
              "  <thead>\n",
              "    <tr style=\"text-align: right;\">\n",
              "      <th></th>\n",
              "      <th>VIF</th>\n",
              "      <th>Column</th>\n",
              "    </tr>\n",
              "  </thead>\n",
              "  <tbody>\n",
              "    <tr>\n",
              "      <th>1</th>\n",
              "      <td>19479.829297</td>\n",
              "      <td>Perimeter</td>\n",
              "    </tr>\n",
              "    <tr>\n",
              "      <th>3</th>\n",
              "      <td>8025.164434</td>\n",
              "      <td>Length_of_ kernel</td>\n",
              "    </tr>\n",
              "    <tr>\n",
              "      <th>4</th>\n",
              "      <td>7906.280941</td>\n",
              "      <td>Width_of_kernel</td>\n",
              "    </tr>\n",
              "    <tr>\n",
              "      <th>2</th>\n",
              "      <td>5682.282348</td>\n",
              "      <td>Compactness</td>\n",
              "    </tr>\n",
              "    <tr>\n",
              "      <th>0</th>\n",
              "      <td>5096.572464</td>\n",
              "      <td>Area</td>\n",
              "    </tr>\n",
              "    <tr>\n",
              "      <th>6</th>\n",
              "      <td>1324.319458</td>\n",
              "      <td>Length_of_kernel_groove</td>\n",
              "    </tr>\n",
              "    <tr>\n",
              "      <th>5</th>\n",
              "      <td>9.453784</td>\n",
              "      <td>Asymmetry_coefficient</td>\n",
              "    </tr>\n",
              "  </tbody>\n",
              "</table>\n",
              "</div>\n",
              "      <button class=\"colab-df-convert\" onclick=\"convertToInteractive('df-72003d60-9848-41ff-8769-67611b016660')\"\n",
              "              title=\"Convert this dataframe to an interactive table.\"\n",
              "              style=\"display:none;\">\n",
              "        \n",
              "  <svg xmlns=\"http://www.w3.org/2000/svg\" height=\"24px\"viewBox=\"0 0 24 24\"\n",
              "       width=\"24px\">\n",
              "    <path d=\"M0 0h24v24H0V0z\" fill=\"none\"/>\n",
              "    <path d=\"M18.56 5.44l.94 2.06.94-2.06 2.06-.94-2.06-.94-.94-2.06-.94 2.06-2.06.94zm-11 1L8.5 8.5l.94-2.06 2.06-.94-2.06-.94L8.5 2.5l-.94 2.06-2.06.94zm10 10l.94 2.06.94-2.06 2.06-.94-2.06-.94-.94-2.06-.94 2.06-2.06.94z\"/><path d=\"M17.41 7.96l-1.37-1.37c-.4-.4-.92-.59-1.43-.59-.52 0-1.04.2-1.43.59L10.3 9.45l-7.72 7.72c-.78.78-.78 2.05 0 2.83L4 21.41c.39.39.9.59 1.41.59.51 0 1.02-.2 1.41-.59l7.78-7.78 2.81-2.81c.8-.78.8-2.07 0-2.86zM5.41 20L4 18.59l7.72-7.72 1.47 1.35L5.41 20z\"/>\n",
              "  </svg>\n",
              "      </button>\n",
              "      \n",
              "  <style>\n",
              "    .colab-df-container {\n",
              "      display:flex;\n",
              "      flex-wrap:wrap;\n",
              "      gap: 12px;\n",
              "    }\n",
              "\n",
              "    .colab-df-convert {\n",
              "      background-color: #E8F0FE;\n",
              "      border: none;\n",
              "      border-radius: 50%;\n",
              "      cursor: pointer;\n",
              "      display: none;\n",
              "      fill: #1967D2;\n",
              "      height: 32px;\n",
              "      padding: 0 0 0 0;\n",
              "      width: 32px;\n",
              "    }\n",
              "\n",
              "    .colab-df-convert:hover {\n",
              "      background-color: #E2EBFA;\n",
              "      box-shadow: 0px 1px 2px rgba(60, 64, 67, 0.3), 0px 1px 3px 1px rgba(60, 64, 67, 0.15);\n",
              "      fill: #174EA6;\n",
              "    }\n",
              "\n",
              "    [theme=dark] .colab-df-convert {\n",
              "      background-color: #3B4455;\n",
              "      fill: #D2E3FC;\n",
              "    }\n",
              "\n",
              "    [theme=dark] .colab-df-convert:hover {\n",
              "      background-color: #434B5C;\n",
              "      box-shadow: 0px 1px 3px 1px rgba(0, 0, 0, 0.15);\n",
              "      filter: drop-shadow(0px 1px 2px rgba(0, 0, 0, 0.3));\n",
              "      fill: #FFFFFF;\n",
              "    }\n",
              "  </style>\n",
              "\n",
              "      <script>\n",
              "        const buttonEl =\n",
              "          document.querySelector('#df-72003d60-9848-41ff-8769-67611b016660 button.colab-df-convert');\n",
              "        buttonEl.style.display =\n",
              "          google.colab.kernel.accessAllowed ? 'block' : 'none';\n",
              "\n",
              "        async function convertToInteractive(key) {\n",
              "          const element = document.querySelector('#df-72003d60-9848-41ff-8769-67611b016660');\n",
              "          const dataTable =\n",
              "            await google.colab.kernel.invokeFunction('convertToInteractive',\n",
              "                                                     [key], {});\n",
              "          if (!dataTable) return;\n",
              "\n",
              "          const docLinkHtml = 'Like what you see? Visit the ' +\n",
              "            '<a target=\"_blank\" href=https://colab.research.google.com/notebooks/data_table.ipynb>data table notebook</a>'\n",
              "            + ' to learn more about interactive tables.';\n",
              "          element.innerHTML = '';\n",
              "          dataTable['output_type'] = 'display_data';\n",
              "          await google.colab.output.renderOutput(dataTable, element);\n",
              "          const docLink = document.createElement('div');\n",
              "          docLink.innerHTML = docLinkHtml;\n",
              "          element.appendChild(docLink);\n",
              "        }\n",
              "      </script>\n",
              "    </div>\n",
              "  </div>\n",
              "  "
            ]
          },
          "metadata": {},
          "execution_count": 125
        }
      ]
    },
    {
      "cell_type": "code",
      "source": [
        "X1 = x.drop(('Area'),axis=1)\n",
        "vif_info = pd.DataFrame()\n",
        "vif_info['VIF'] = [variance_inflation_factor(X1.values, i) for i in range(X1.shape[1])]\n",
        "vif_info['Column'] = X1.columns\n",
        "vif_info.sort_values('VIF', ascending=False)"
      ],
      "metadata": {
        "colab": {
          "base_uri": "https://localhost:8080/",
          "height": 237
        },
        "id": "wS8u1dFVv2cd",
        "outputId": "c450e25b-f07e-4e6f-a7f2-6dd91a17bf4b"
      },
      "execution_count": null,
      "outputs": [
        {
          "output_type": "execute_result",
          "data": {
            "text/plain": [
              "            VIF                   Column\n",
              "0  14302.294862                Perimeter\n",
              "2   7884.976026        Length_of_ kernel\n",
              "3   1877.466641          Width_of_kernel\n",
              "5   1267.564264  Length_of_kernel_groove\n",
              "1    240.249093              Compactness\n",
              "4      8.906053    Asymmetry_coefficient"
            ],
            "text/html": [
              "\n",
              "  <div id=\"df-7c2a05cb-8e93-4ad0-b09e-87faeeb68791\">\n",
              "    <div class=\"colab-df-container\">\n",
              "      <div>\n",
              "<style scoped>\n",
              "    .dataframe tbody tr th:only-of-type {\n",
              "        vertical-align: middle;\n",
              "    }\n",
              "\n",
              "    .dataframe tbody tr th {\n",
              "        vertical-align: top;\n",
              "    }\n",
              "\n",
              "    .dataframe thead th {\n",
              "        text-align: right;\n",
              "    }\n",
              "</style>\n",
              "<table border=\"1\" class=\"dataframe\">\n",
              "  <thead>\n",
              "    <tr style=\"text-align: right;\">\n",
              "      <th></th>\n",
              "      <th>VIF</th>\n",
              "      <th>Column</th>\n",
              "    </tr>\n",
              "  </thead>\n",
              "  <tbody>\n",
              "    <tr>\n",
              "      <th>0</th>\n",
              "      <td>14302.294862</td>\n",
              "      <td>Perimeter</td>\n",
              "    </tr>\n",
              "    <tr>\n",
              "      <th>2</th>\n",
              "      <td>7884.976026</td>\n",
              "      <td>Length_of_ kernel</td>\n",
              "    </tr>\n",
              "    <tr>\n",
              "      <th>3</th>\n",
              "      <td>1877.466641</td>\n",
              "      <td>Width_of_kernel</td>\n",
              "    </tr>\n",
              "    <tr>\n",
              "      <th>5</th>\n",
              "      <td>1267.564264</td>\n",
              "      <td>Length_of_kernel_groove</td>\n",
              "    </tr>\n",
              "    <tr>\n",
              "      <th>1</th>\n",
              "      <td>240.249093</td>\n",
              "      <td>Compactness</td>\n",
              "    </tr>\n",
              "    <tr>\n",
              "      <th>4</th>\n",
              "      <td>8.906053</td>\n",
              "      <td>Asymmetry_coefficient</td>\n",
              "    </tr>\n",
              "  </tbody>\n",
              "</table>\n",
              "</div>\n",
              "      <button class=\"colab-df-convert\" onclick=\"convertToInteractive('df-7c2a05cb-8e93-4ad0-b09e-87faeeb68791')\"\n",
              "              title=\"Convert this dataframe to an interactive table.\"\n",
              "              style=\"display:none;\">\n",
              "        \n",
              "  <svg xmlns=\"http://www.w3.org/2000/svg\" height=\"24px\"viewBox=\"0 0 24 24\"\n",
              "       width=\"24px\">\n",
              "    <path d=\"M0 0h24v24H0V0z\" fill=\"none\"/>\n",
              "    <path d=\"M18.56 5.44l.94 2.06.94-2.06 2.06-.94-2.06-.94-.94-2.06-.94 2.06-2.06.94zm-11 1L8.5 8.5l.94-2.06 2.06-.94-2.06-.94L8.5 2.5l-.94 2.06-2.06.94zm10 10l.94 2.06.94-2.06 2.06-.94-2.06-.94-.94-2.06-.94 2.06-2.06.94z\"/><path d=\"M17.41 7.96l-1.37-1.37c-.4-.4-.92-.59-1.43-.59-.52 0-1.04.2-1.43.59L10.3 9.45l-7.72 7.72c-.78.78-.78 2.05 0 2.83L4 21.41c.39.39.9.59 1.41.59.51 0 1.02-.2 1.41-.59l7.78-7.78 2.81-2.81c.8-.78.8-2.07 0-2.86zM5.41 20L4 18.59l7.72-7.72 1.47 1.35L5.41 20z\"/>\n",
              "  </svg>\n",
              "      </button>\n",
              "      \n",
              "  <style>\n",
              "    .colab-df-container {\n",
              "      display:flex;\n",
              "      flex-wrap:wrap;\n",
              "      gap: 12px;\n",
              "    }\n",
              "\n",
              "    .colab-df-convert {\n",
              "      background-color: #E8F0FE;\n",
              "      border: none;\n",
              "      border-radius: 50%;\n",
              "      cursor: pointer;\n",
              "      display: none;\n",
              "      fill: #1967D2;\n",
              "      height: 32px;\n",
              "      padding: 0 0 0 0;\n",
              "      width: 32px;\n",
              "    }\n",
              "\n",
              "    .colab-df-convert:hover {\n",
              "      background-color: #E2EBFA;\n",
              "      box-shadow: 0px 1px 2px rgba(60, 64, 67, 0.3), 0px 1px 3px 1px rgba(60, 64, 67, 0.15);\n",
              "      fill: #174EA6;\n",
              "    }\n",
              "\n",
              "    [theme=dark] .colab-df-convert {\n",
              "      background-color: #3B4455;\n",
              "      fill: #D2E3FC;\n",
              "    }\n",
              "\n",
              "    [theme=dark] .colab-df-convert:hover {\n",
              "      background-color: #434B5C;\n",
              "      box-shadow: 0px 1px 3px 1px rgba(0, 0, 0, 0.15);\n",
              "      filter: drop-shadow(0px 1px 2px rgba(0, 0, 0, 0.3));\n",
              "      fill: #FFFFFF;\n",
              "    }\n",
              "  </style>\n",
              "\n",
              "      <script>\n",
              "        const buttonEl =\n",
              "          document.querySelector('#df-7c2a05cb-8e93-4ad0-b09e-87faeeb68791 button.colab-df-convert');\n",
              "        buttonEl.style.display =\n",
              "          google.colab.kernel.accessAllowed ? 'block' : 'none';\n",
              "\n",
              "        async function convertToInteractive(key) {\n",
              "          const element = document.querySelector('#df-7c2a05cb-8e93-4ad0-b09e-87faeeb68791');\n",
              "          const dataTable =\n",
              "            await google.colab.kernel.invokeFunction('convertToInteractive',\n",
              "                                                     [key], {});\n",
              "          if (!dataTable) return;\n",
              "\n",
              "          const docLinkHtml = 'Like what you see? Visit the ' +\n",
              "            '<a target=\"_blank\" href=https://colab.research.google.com/notebooks/data_table.ipynb>data table notebook</a>'\n",
              "            + ' to learn more about interactive tables.';\n",
              "          element.innerHTML = '';\n",
              "          dataTable['output_type'] = 'display_data';\n",
              "          await google.colab.output.renderOutput(dataTable, element);\n",
              "          const docLink = document.createElement('div');\n",
              "          docLink.innerHTML = docLinkHtml;\n",
              "          element.appendChild(docLink);\n",
              "        }\n",
              "      </script>\n",
              "    </div>\n",
              "  </div>\n",
              "  "
            ]
          },
          "metadata": {},
          "execution_count": 126
        }
      ]
    },
    {
      "cell_type": "code",
      "source": [
        "X2 = X1.drop(('Perimeter'),axis=1)\n",
        "vif_info = pd.DataFrame()\n",
        "vif_info['VIF'] = [variance_inflation_factor(X2.values, i) for i in range(X2.shape[1])]\n",
        "vif_info['Column'] = X2.columns\n",
        "vif_info.sort_values('VIF', ascending=False)"
      ],
      "metadata": {
        "colab": {
          "base_uri": "https://localhost:8080/",
          "height": 206
        },
        "id": "0lh0rwHIwS2h",
        "outputId": "6ce06318-7d81-4b90-9de6-a71c8232f7bd"
      },
      "execution_count": null,
      "outputs": [
        {
          "output_type": "execute_result",
          "data": {
            "text/plain": [
              "           VIF                   Column\n",
              "1  2201.669795        Length_of_ kernel\n",
              "4  1221.112983  Length_of_kernel_groove\n",
              "2   291.250086          Width_of_kernel\n",
              "0   235.902604              Compactness\n",
              "3     8.793308    Asymmetry_coefficient"
            ],
            "text/html": [
              "\n",
              "  <div id=\"df-d012332b-7e9e-468b-b7a2-95a24a29e35f\">\n",
              "    <div class=\"colab-df-container\">\n",
              "      <div>\n",
              "<style scoped>\n",
              "    .dataframe tbody tr th:only-of-type {\n",
              "        vertical-align: middle;\n",
              "    }\n",
              "\n",
              "    .dataframe tbody tr th {\n",
              "        vertical-align: top;\n",
              "    }\n",
              "\n",
              "    .dataframe thead th {\n",
              "        text-align: right;\n",
              "    }\n",
              "</style>\n",
              "<table border=\"1\" class=\"dataframe\">\n",
              "  <thead>\n",
              "    <tr style=\"text-align: right;\">\n",
              "      <th></th>\n",
              "      <th>VIF</th>\n",
              "      <th>Column</th>\n",
              "    </tr>\n",
              "  </thead>\n",
              "  <tbody>\n",
              "    <tr>\n",
              "      <th>1</th>\n",
              "      <td>2201.669795</td>\n",
              "      <td>Length_of_ kernel</td>\n",
              "    </tr>\n",
              "    <tr>\n",
              "      <th>4</th>\n",
              "      <td>1221.112983</td>\n",
              "      <td>Length_of_kernel_groove</td>\n",
              "    </tr>\n",
              "    <tr>\n",
              "      <th>2</th>\n",
              "      <td>291.250086</td>\n",
              "      <td>Width_of_kernel</td>\n",
              "    </tr>\n",
              "    <tr>\n",
              "      <th>0</th>\n",
              "      <td>235.902604</td>\n",
              "      <td>Compactness</td>\n",
              "    </tr>\n",
              "    <tr>\n",
              "      <th>3</th>\n",
              "      <td>8.793308</td>\n",
              "      <td>Asymmetry_coefficient</td>\n",
              "    </tr>\n",
              "  </tbody>\n",
              "</table>\n",
              "</div>\n",
              "      <button class=\"colab-df-convert\" onclick=\"convertToInteractive('df-d012332b-7e9e-468b-b7a2-95a24a29e35f')\"\n",
              "              title=\"Convert this dataframe to an interactive table.\"\n",
              "              style=\"display:none;\">\n",
              "        \n",
              "  <svg xmlns=\"http://www.w3.org/2000/svg\" height=\"24px\"viewBox=\"0 0 24 24\"\n",
              "       width=\"24px\">\n",
              "    <path d=\"M0 0h24v24H0V0z\" fill=\"none\"/>\n",
              "    <path d=\"M18.56 5.44l.94 2.06.94-2.06 2.06-.94-2.06-.94-.94-2.06-.94 2.06-2.06.94zm-11 1L8.5 8.5l.94-2.06 2.06-.94-2.06-.94L8.5 2.5l-.94 2.06-2.06.94zm10 10l.94 2.06.94-2.06 2.06-.94-2.06-.94-.94-2.06-.94 2.06-2.06.94z\"/><path d=\"M17.41 7.96l-1.37-1.37c-.4-.4-.92-.59-1.43-.59-.52 0-1.04.2-1.43.59L10.3 9.45l-7.72 7.72c-.78.78-.78 2.05 0 2.83L4 21.41c.39.39.9.59 1.41.59.51 0 1.02-.2 1.41-.59l7.78-7.78 2.81-2.81c.8-.78.8-2.07 0-2.86zM5.41 20L4 18.59l7.72-7.72 1.47 1.35L5.41 20z\"/>\n",
              "  </svg>\n",
              "      </button>\n",
              "      \n",
              "  <style>\n",
              "    .colab-df-container {\n",
              "      display:flex;\n",
              "      flex-wrap:wrap;\n",
              "      gap: 12px;\n",
              "    }\n",
              "\n",
              "    .colab-df-convert {\n",
              "      background-color: #E8F0FE;\n",
              "      border: none;\n",
              "      border-radius: 50%;\n",
              "      cursor: pointer;\n",
              "      display: none;\n",
              "      fill: #1967D2;\n",
              "      height: 32px;\n",
              "      padding: 0 0 0 0;\n",
              "      width: 32px;\n",
              "    }\n",
              "\n",
              "    .colab-df-convert:hover {\n",
              "      background-color: #E2EBFA;\n",
              "      box-shadow: 0px 1px 2px rgba(60, 64, 67, 0.3), 0px 1px 3px 1px rgba(60, 64, 67, 0.15);\n",
              "      fill: #174EA6;\n",
              "    }\n",
              "\n",
              "    [theme=dark] .colab-df-convert {\n",
              "      background-color: #3B4455;\n",
              "      fill: #D2E3FC;\n",
              "    }\n",
              "\n",
              "    [theme=dark] .colab-df-convert:hover {\n",
              "      background-color: #434B5C;\n",
              "      box-shadow: 0px 1px 3px 1px rgba(0, 0, 0, 0.15);\n",
              "      filter: drop-shadow(0px 1px 2px rgba(0, 0, 0, 0.3));\n",
              "      fill: #FFFFFF;\n",
              "    }\n",
              "  </style>\n",
              "\n",
              "      <script>\n",
              "        const buttonEl =\n",
              "          document.querySelector('#df-d012332b-7e9e-468b-b7a2-95a24a29e35f button.colab-df-convert');\n",
              "        buttonEl.style.display =\n",
              "          google.colab.kernel.accessAllowed ? 'block' : 'none';\n",
              "\n",
              "        async function convertToInteractive(key) {\n",
              "          const element = document.querySelector('#df-d012332b-7e9e-468b-b7a2-95a24a29e35f');\n",
              "          const dataTable =\n",
              "            await google.colab.kernel.invokeFunction('convertToInteractive',\n",
              "                                                     [key], {});\n",
              "          if (!dataTable) return;\n",
              "\n",
              "          const docLinkHtml = 'Like what you see? Visit the ' +\n",
              "            '<a target=\"_blank\" href=https://colab.research.google.com/notebooks/data_table.ipynb>data table notebook</a>'\n",
              "            + ' to learn more about interactive tables.';\n",
              "          element.innerHTML = '';\n",
              "          dataTable['output_type'] = 'display_data';\n",
              "          await google.colab.output.renderOutput(dataTable, element);\n",
              "          const docLink = document.createElement('div');\n",
              "          docLink.innerHTML = docLinkHtml;\n",
              "          element.appendChild(docLink);\n",
              "        }\n",
              "      </script>\n",
              "    </div>\n",
              "  </div>\n",
              "  "
            ]
          },
          "metadata": {},
          "execution_count": 127
        }
      ]
    },
    {
      "cell_type": "markdown",
      "source": [
        "**split test and train data**"
      ],
      "metadata": {
        "id": "dzKP9Swbk2oR"
      }
    },
    {
      "cell_type": "code",
      "source": [
        "#Split the test and train data:\n",
        "x_train,x_test, y_train, y_test = train_test_split(x, y, test_size= 0.4, random_state= 1)\n",
        "print('x_train dimension= ', x_train.shape)\n",
        "print('x_test dimension= ', x_test.shape)\n",
        "print('y_train dimension= ', y_train.shape)\n",
        "print('y_test dimension= ', y_test.shape)"
      ],
      "metadata": {
        "colab": {
          "base_uri": "https://localhost:8080/"
        },
        "id": "3jvw9savOpY0",
        "outputId": "2052c4e6-1892-40c9-b770-dbc30a0f6c3d"
      },
      "execution_count": null,
      "outputs": [
        {
          "output_type": "stream",
          "name": "stdout",
          "text": [
            "x_train dimension=  (126, 7)\n",
            "x_test dimension=  (84, 7)\n",
            "y_train dimension=  (126,)\n",
            "y_test dimension=  (84,)\n"
          ]
        }
      ]
    },
    {
      "cell_type": "markdown",
      "source": [
        "**Model fitting**"
      ],
      "metadata": {
        "id": "lVFpltbpk-VY"
      }
    },
    {
      "cell_type": "code",
      "source": [
        "cls = tree.DecisionTreeClassifier(random_state= 1)\n",
        "cls.fit(x_train ,y_train)"
      ],
      "metadata": {
        "colab": {
          "base_uri": "https://localhost:8080/"
        },
        "id": "YN_Rbr71rEKQ",
        "outputId": "b78943e7-7358-4b42-f7ab-a601932da890"
      },
      "execution_count": null,
      "outputs": [
        {
          "output_type": "execute_result",
          "data": {
            "text/plain": [
              "DecisionTreeClassifier(random_state=1)"
            ]
          },
          "metadata": {},
          "execution_count": 129
        }
      ]
    },
    {
      "cell_type": "code",
      "source": [
        "cls.score(x_test, y_test)"
      ],
      "metadata": {
        "colab": {
          "base_uri": "https://localhost:8080/"
        },
        "id": "IV1k8cgFrSpL",
        "outputId": "6ee2fee8-2eaa-476d-d317-6fc08ef0234d"
      },
      "execution_count": null,
      "outputs": [
        {
          "output_type": "execute_result",
          "data": {
            "text/plain": [
              "0.8809523809523809"
            ]
          },
          "metadata": {},
          "execution_count": 130
        }
      ]
    },
    {
      "cell_type": "code",
      "source": [
        "#Creating the classifier object:\n",
        "clf_gini = DecisionTreeClassifier(criterion = \"gini\",\n",
        "\t\t\trandom_state = 100,max_depth=5, min_samples_leaf=5)\n",
        "clf_gini.fit(x_train, y_train)"
      ],
      "metadata": {
        "colab": {
          "base_uri": "https://localhost:8080/"
        },
        "id": "CIjjbx9sVaR6",
        "outputId": "fa230083-ec5d-4496-d457-5290d1cd01af"
      },
      "execution_count": null,
      "outputs": [
        {
          "output_type": "execute_result",
          "data": {
            "text/plain": [
              "DecisionTreeClassifier(max_depth=5, min_samples_leaf=5, random_state=100)"
            ]
          },
          "metadata": {},
          "execution_count": 131
        }
      ]
    },
    {
      "cell_type": "code",
      "source": [
        "#On test\n",
        "y_pred = clf_gini.predict(x_test)"
      ],
      "metadata": {
        "id": "HOtI1oFFVd-_"
      },
      "execution_count": null,
      "outputs": []
    },
    {
      "cell_type": "code",
      "source": [
        "from sklearn.metrics import classification_report\n",
        "print(classification_report(y_test, y_pred))"
      ],
      "metadata": {
        "colab": {
          "base_uri": "https://localhost:8080/"
        },
        "id": "Y-L9hBKzViLw",
        "outputId": "837f31f0-f0bd-4d45-eaf1-b6ad5f2e75bb"
      },
      "execution_count": null,
      "outputs": [
        {
          "output_type": "stream",
          "name": "stdout",
          "text": [
            "              precision    recall  f1-score   support\n",
            "\n",
            "           1       0.90      0.88      0.89        32\n",
            "           2       1.00      0.92      0.96        26\n",
            "           3       0.86      0.96      0.91        26\n",
            "\n",
            "    accuracy                           0.92        84\n",
            "   macro avg       0.92      0.92      0.92        84\n",
            "weighted avg       0.92      0.92      0.92        84\n",
            "\n"
          ]
        }
      ]
    },
    {
      "cell_type": "code",
      "source": [
        "#specifying the initial learners\n",
        "model1 = RandomForestClassifier()\n",
        "model2 = LogisticRegression()\n",
        "model3 = xgb.XGBClassifier()\n",
        "\n",
        "#training the initial learners\n",
        "model1.fit(x_train,y_train)\n",
        "model2.fit(x_train,y_train)\n",
        "model3.fit(x_train,y_train)"
      ],
      "metadata": {
        "colab": {
          "base_uri": "https://localhost:8080/"
        },
        "id": "lBJ9V2Hsmqpc",
        "outputId": "75af1c80-44d8-4725-e870-7a99034c590a"
      },
      "execution_count": null,
      "outputs": [
        {
          "output_type": "stream",
          "name": "stderr",
          "text": [
            "/usr/local/lib/python3.7/dist-packages/sklearn/linear_model/_logistic.py:818: ConvergenceWarning: lbfgs failed to converge (status=1):\n",
            "STOP: TOTAL NO. of ITERATIONS REACHED LIMIT.\n",
            "\n",
            "Increase the number of iterations (max_iter) or scale the data as shown in:\n",
            "    https://scikit-learn.org/stable/modules/preprocessing.html\n",
            "Please also refer to the documentation for alternative solver options:\n",
            "    https://scikit-learn.org/stable/modules/linear_model.html#logistic-regression\n",
            "  extra_warning_msg=_LOGISTIC_SOLVER_CONVERGENCE_MSG,\n"
          ]
        },
        {
          "output_type": "execute_result",
          "data": {
            "text/plain": [
              "XGBClassifier(objective='multi:softprob')"
            ]
          },
          "metadata": {},
          "execution_count": 134
        }
      ]
    },
    {
      "cell_type": "code",
      "source": [
        "#making predictions for the validation data\n",
        "preds1 = model1.predict(x_test)\n",
        "preds2 = model2.predict(x_test)\n",
        "preds3 = model3.predict(x_test)\n",
        "\n",
        "#making predictions for the test data\n",
        "test_preds1 = model1.predict(x_test)\n",
        "test_preds2 = model2.predict(x_test)\n",
        "test_preds3 = model3.predict(x_test)"
      ],
      "metadata": {
        "id": "7x5P1BIvpCGf"
      },
      "execution_count": null,
      "outputs": []
    },
    {
      "cell_type": "code",
      "source": [
        "#making a new dataset for training our final model by stacking the predictions on the validation data\n",
        "train_stack = np.column_stack((preds1,preds2,preds3))\n",
        "\n",
        "#making the final test set for our final model by stacking the predictions on the test data\n",
        "test_stack = np.column_stack((test_preds1,test_preds2,test_preds3))"
      ],
      "metadata": {
        "id": "irmZhLC0p0gs"
      },
      "execution_count": null,
      "outputs": []
    },
    {
      "cell_type": "code",
      "source": [
        "print(train_stack)"
      ],
      "metadata": {
        "colab": {
          "base_uri": "https://localhost:8080/"
        },
        "id": "9hg8KUqtsaXK",
        "outputId": "1673d245-93aa-45ad-f14e-027c9e4741ff"
      },
      "execution_count": null,
      "outputs": [
        {
          "output_type": "stream",
          "name": "stdout",
          "text": [
            "[[2 2 2]\n",
            " [3 3 3]\n",
            " [3 1 3]\n",
            " [1 1 1]\n",
            " [1 1 1]\n",
            " [1 2 1]\n",
            " [2 2 2]\n",
            " [1 1 1]\n",
            " [3 3 3]\n",
            " [1 2 1]\n",
            " [3 3 3]\n",
            " [2 2 2]\n",
            " [2 2 2]\n",
            " [3 3 3]\n",
            " [1 1 1]\n",
            " [2 2 2]\n",
            " [3 1 3]\n",
            " [2 1 2]\n",
            " [1 1 1]\n",
            " [1 1 1]\n",
            " [2 2 2]\n",
            " [1 1 1]\n",
            " [2 2 2]\n",
            " [3 3 3]\n",
            " [3 3 3]\n",
            " [1 1 1]\n",
            " [2 2 2]\n",
            " [3 3 3]\n",
            " [2 2 2]\n",
            " [3 3 3]\n",
            " [1 1 1]\n",
            " [1 1 1]\n",
            " [1 1 1]\n",
            " [1 1 1]\n",
            " [3 3 3]\n",
            " [3 3 3]\n",
            " [1 1 1]\n",
            " [3 3 3]\n",
            " [1 1 1]\n",
            " [2 2 2]\n",
            " [3 3 3]\n",
            " [2 2 2]\n",
            " [3 3 3]\n",
            " [3 3 3]\n",
            " [3 3 3]\n",
            " [1 1 1]\n",
            " [2 2 2]\n",
            " [3 3 3]\n",
            " [3 3 3]\n",
            " [3 3 3]\n",
            " [2 2 2]\n",
            " [1 1 1]\n",
            " [3 3 3]\n",
            " [1 1 1]\n",
            " [1 1 1]\n",
            " [1 1 1]\n",
            " [2 2 2]\n",
            " [3 3 3]\n",
            " [3 3 3]\n",
            " [3 3 3]\n",
            " [1 1 1]\n",
            " [3 3 3]\n",
            " [1 1 1]\n",
            " [3 3 3]\n",
            " [3 3 3]\n",
            " [2 2 2]\n",
            " [2 2 2]\n",
            " [3 3 3]\n",
            " [1 1 1]\n",
            " [3 3 3]\n",
            " [2 2 2]\n",
            " [2 2 2]\n",
            " [2 2 2]\n",
            " [1 1 1]\n",
            " [1 1 1]\n",
            " [2 2 2]\n",
            " [1 1 1]\n",
            " [1 1 1]\n",
            " [2 2 2]\n",
            " [2 2 2]\n",
            " [1 1 1]\n",
            " [2 2 2]\n",
            " [3 3 3]\n",
            " [1 1 3]]\n"
          ]
        }
      ]
    },
    {
      "cell_type": "code",
      "source": [
        "final_model = RandomForestClassifier()\n",
        "\n",
        "#training the final model on the stacked predictions\n",
        "final_model.fit(train_stack,y_pred)"
      ],
      "metadata": {
        "colab": {
          "base_uri": "https://localhost:8080/"
        },
        "id": "SsJ2Bbapp6Mr",
        "outputId": "6879d3cf-3fe1-487d-a100-cf36c3ca305a"
      },
      "execution_count": null,
      "outputs": [
        {
          "output_type": "execute_result",
          "data": {
            "text/plain": [
              "RandomForestClassifier()"
            ]
          },
          "metadata": {},
          "execution_count": 138
        }
      ]
    },
    {
      "cell_type": "code",
      "source": [
        "final_model.score(train_stack,y_pred)"
      ],
      "metadata": {
        "colab": {
          "base_uri": "https://localhost:8080/"
        },
        "id": "9ZNiRQMurb5H",
        "outputId": "6c46b2fc-f677-42fb-9009-0bda24d06591"
      },
      "execution_count": null,
      "outputs": [
        {
          "output_type": "execute_result",
          "data": {
            "text/plain": [
              "0.9523809523809523"
            ]
          },
          "metadata": {},
          "execution_count": 139
        }
      ]
    },
    {
      "cell_type": "code",
      "source": [
        "final_predictions = final_model.predict(test_stack)\n",
        "print(final_predictions)"
      ],
      "metadata": {
        "colab": {
          "base_uri": "https://localhost:8080/"
        },
        "id": "jzrRhHtJqHbw",
        "outputId": "ccfa39de-5bfb-4696-b9f7-fc55ad0030a7"
      },
      "execution_count": null,
      "outputs": [
        {
          "output_type": "stream",
          "name": "stdout",
          "text": [
            "[2 3 3 1 1 1 2 1 3 1 3 2 2 3 1 2 3 2 1 1 2 1 2 3 3 1 2 3 2 3 1 1 1 1 3 3 1\n",
            " 3 1 2 3 2 3 3 3 1 2 3 3 3 2 1 3 1 1 1 2 3 3 3 1 3 1 3 3 2 2 3 1 3 2 2 2 1\n",
            " 1 2 1 1 2 2 1 2 3 3]\n"
          ]
        }
      ]
    },
    {
      "cell_type": "code",
      "source": [
        "# Fitting Decision Tree Regression to the dataset\n",
        "from sklearn.tree import DecisionTreeRegressor\n",
        "regressor = DecisionTreeRegressor()\n",
        "regressor.fit(x_train, y_train)\n",
        "y_pred_train = regressor.predict(x_train)"
      ],
      "metadata": {
        "id": "-GUR0eBqtqav"
      },
      "execution_count": null,
      "outputs": []
    },
    {
      "cell_type": "code",
      "source": [
        "#confusion matrix\n",
        "from sklearn.metrics import confusion_matrix\n",
        "cm = confusion_matrix(y_train, y_pred_train)\n",
        "print(cm)"
      ],
      "metadata": {
        "colab": {
          "base_uri": "https://localhost:8080/"
        },
        "id": "-Z3aSU8ctkS4",
        "outputId": "adb40c49-8968-4cb5-d5a5-2ad495b21c0c"
      },
      "execution_count": null,
      "outputs": [
        {
          "output_type": "stream",
          "name": "stdout",
          "text": [
            "[[38  0  0]\n",
            " [ 0 44  0]\n",
            " [ 0  0 44]]\n"
          ]
        }
      ]
    },
    {
      "cell_type": "code",
      "source": [
        "#confusion matrix\n",
        "from sklearn.metrics import confusion_matrix\n",
        "\n",
        "y_pred_test = regressor.predict(x_test)\n",
        "\n",
        "cm = confusion_matrix(y_test, y_pred_test)\n",
        "print(cm)"
      ],
      "metadata": {
        "colab": {
          "base_uri": "https://localhost:8080/"
        },
        "id": "GOsuail1tqg4",
        "outputId": "1cea4007-b0a8-4239-8b42-bc73817ec67f"
      },
      "execution_count": null,
      "outputs": [
        {
          "output_type": "stream",
          "name": "stdout",
          "text": [
            "[[31  0  1]\n",
            " [ 3 23  0]\n",
            " [ 0  0 26]]\n"
          ]
        }
      ]
    },
    {
      "cell_type": "code",
      "source": [
        "from sklearn.metrics import accuracy_score\n",
        "from sklearn.metrics import classification_report\n",
        "print (\"Accuracy : \",accuracy_score(y_test,y_pred_test)*100)\n",
        "\t\n",
        "print(\"Report : \",classification_report(y_test, y_pred_test))"
      ],
      "metadata": {
        "colab": {
          "base_uri": "https://localhost:8080/"
        },
        "id": "cnRg8honuANu",
        "outputId": "3d98c9da-db18-4255-88e8-9b4d6d953733"
      },
      "execution_count": null,
      "outputs": [
        {
          "output_type": "stream",
          "name": "stdout",
          "text": [
            "Accuracy :  95.23809523809523\n",
            "Report :                precision    recall  f1-score   support\n",
            "\n",
            "           1       0.91      0.97      0.94        32\n",
            "           2       1.00      0.88      0.94        26\n",
            "           3       0.96      1.00      0.98        26\n",
            "\n",
            "    accuracy                           0.95        84\n",
            "   macro avg       0.96      0.95      0.95        84\n",
            "weighted avg       0.95      0.95      0.95        84\n",
            "\n"
          ]
        }
      ]
    },
    {
      "cell_type": "markdown",
      "source": [
        "**Stacking**"
      ],
      "metadata": {
        "id": "9doMGxYglf9H"
      }
    },
    {
      "cell_type": "code",
      "source": [
        "from sklearn.naive_bayes import GaussianNB"
      ],
      "metadata": {
        "id": "mXPRrEnkgH1Y"
      },
      "execution_count": null,
      "outputs": []
    },
    {
      "cell_type": "code",
      "source": [
        "KNC = KNeighborsClassifier()   # initialising KNeighbors Classifier\n",
        "NB = GaussianNB()              # initialising Naive Bayes\n",
        "model_kNeighborsClassifier = KNC.fit(x_train, y_train)   # fitting Training Set\n",
        "pred_knc = model_kNeighborsClassifier.predict(x_test)   # Predicting on test dataset\n",
        "acc_knc = accuracy_score(y_test, pred_knc)  # evaluating accuracy score\n",
        "print('accuracy score of KNeighbors Classifier is:', acc_knc * 100)"
      ],
      "metadata": {
        "colab": {
          "base_uri": "https://localhost:8080/"
        },
        "id": "xALf-Kobodcf",
        "outputId": "c0e66434-ef50-4b42-d51f-8b665dca89d0"
      },
      "execution_count": null,
      "outputs": [
        {
          "output_type": "stream",
          "name": "stdout",
          "text": [
            "accuracy score of KNeighbors Classifier is: 86.90476190476191\n"
          ]
        }
      ]
    },
    {
      "cell_type": "code",
      "source": [
        "model_NaiveBayes = NB.fit(x_train, y_train)\n",
        "pred_nb = model_NaiveBayes.predict(x_test)"
      ],
      "metadata": {
        "id": "9a_oiTD7gspt"
      },
      "execution_count": null,
      "outputs": []
    },
    {
      "cell_type": "code",
      "source": [
        "acc_nb = accuracy_score(y_test, pred_nb)\n",
        "print('Accuracy of Naive Bayes Classifier:', acc_nb * 100)"
      ],
      "metadata": {
        "colab": {
          "base_uri": "https://localhost:8080/"
        },
        "id": "EnLrNGflg1o4",
        "outputId": "1146d894-2d63-44ea-8ca7-ada28a4ee16b"
      },
      "execution_count": null,
      "outputs": [
        {
          "output_type": "stream",
          "name": "stdout",
          "text": [
            "Accuracy of Naive Bayes Classifier: 88.09523809523809\n"
          ]
        }
      ]
    },
    {
      "cell_type": "code",
      "source": [
        "from sklearn.ensemble import StackingClassifier\n",
        "\n",
        "lr = LogisticRegression()  # defining meta-classifier\n",
        "clf_stack = StackingClassifier(estimators =[KNC, NB], final_estimator = lr)\n",
        "print(clf_stack)"
      ],
      "metadata": {
        "colab": {
          "base_uri": "https://localhost:8080/"
        },
        "id": "9O77qo8Ig7ny",
        "outputId": "7f5b8cbf-a7bb-4aee-972a-269949d360c1"
      },
      "execution_count": null,
      "outputs": [
        {
          "output_type": "stream",
          "name": "stdout",
          "text": [
            "StackingClassifier(estimators=[KNeighborsClassifier(), GaussianNB()],\n",
            "                   final_estimator=LogisticRegression())\n"
          ]
        }
      ]
    },
    {
      "cell_type": "code",
      "source": [
        "models = [KNeighborsClassifier(n_neighbors=5,n_jobs=-1),\n",
        "    RandomForestClassifier(random_state=0, n_jobs=-1,n_estimators=100, max_depth=3),\n",
        "    XGBClassifier(random_state=0, n_jobs=-1, learning_rate=0.1,n_estimators=100, max_depth=3)]"
      ],
      "metadata": {
        "id": "kLZTWPR-iBw1"
      },
      "execution_count": null,
      "outputs": []
    },
    {
      "cell_type": "code",
      "source": [
        "x_train, x_test = stacking(\n",
        "    models,x_train, y_train, x_test,regression=False,mode='oof_pred_bag',\n",
        "                           needs_proba=False,save_dir=None,metric=accuracy_score,\n",
        "                           n_folds=5,stratified=True,shuffle=True,random_state=0,verbose=2\n",
        "                           )"
      ],
      "metadata": {
        "colab": {
          "base_uri": "https://localhost:8080/"
        },
        "id": "ozBpf_4NiYWD",
        "outputId": "1c7824e6-fd17-42ef-ac73-7a0833363ae1"
      },
      "execution_count": null,
      "outputs": [
        {
          "output_type": "stream",
          "name": "stdout",
          "text": [
            "task:         [classification]\n",
            "n_classes:    [3]\n",
            "metric:       [accuracy_score]\n",
            "mode:         [oof_pred_bag]\n",
            "n_models:     [3]\n",
            "\n",
            "model  0:     [KNeighborsClassifier]\n",
            "    fold  0:  [0.84615385]\n",
            "    fold  1:  [0.88000000]\n",
            "    fold  2:  [0.92000000]\n",
            "    fold  3:  [0.92000000]\n",
            "    fold  4:  [0.92000000]\n",
            "    ----\n",
            "    MEAN:     [0.89723077] + [0.02986994]\n",
            "    FULL:     [0.89682540]\n",
            "\n",
            "model  1:     [RandomForestClassifier]\n",
            "    fold  0:  [0.88461538]\n",
            "    fold  1:  [0.80000000]\n",
            "    fold  2:  [0.96000000]\n",
            "    fold  3:  [1.00000000]\n",
            "    fold  4:  [0.96000000]\n",
            "    ----\n",
            "    MEAN:     [0.92092308] + [0.07106027]\n",
            "    FULL:     [0.92063492]\n",
            "\n",
            "model  2:     [XGBClassifier]\n",
            "    fold  0:  [0.80769231]\n",
            "    fold  1:  [0.92000000]\n",
            "    fold  2:  [0.88000000]\n",
            "    fold  3:  [1.00000000]\n",
            "    fold  4:  [0.96000000]\n",
            "    ----\n",
            "    MEAN:     [0.91353846] + [0.06633892]\n",
            "    FULL:     [0.91269841]\n",
            "\n"
          ]
        }
      ]
    },
    {
      "cell_type": "markdown",
      "source": [
        "**Blending**"
      ],
      "metadata": {
        "id": "CK8D2Cl7l61F"
      }
    },
    {
      "cell_type": "code",
      "source": [
        "model = XGBClassifier(random_state=0, n_jobs=-1, learning_rate=0.1,n_estimators=100, max_depth=3)\n",
        "model = model.fit(x_train, y_train)\n",
        "y_pred = model.predict(x_test)\n",
        "print('Final prediction score: [%.8f]' % accuracy_score(y_test, y_pred))"
      ],
      "metadata": {
        "colab": {
          "base_uri": "https://localhost:8080/"
        },
        "id": "_Yo1wka0iv_h",
        "outputId": "c6391340-6c2f-4d71-d945-e1d66b221849"
      },
      "execution_count": null,
      "outputs": [
        {
          "output_type": "stream",
          "name": "stdout",
          "text": [
            "Final prediction score: [0.90476190]\n"
          ]
        }
      ]
    },
    {
      "cell_type": "code",
      "source": [
        "model_1 = tree.DecisionTreeClassifier()\n",
        "model_1.fit(x_train, y_train)\n",
        "#holdout_pred_1=model_1.predict(X_test)\n",
        "test_pred_1=model_1.predict(x_test)\n",
        "#holdout_pred_1=pd.DataFrame(holdout_pred_1)\n",
        "test_pred_1=pd.DataFrame(test_pred_1)\n",
        "\n",
        "model_2 = KNeighborsClassifier()\n",
        "model_2.fit(x_train,y_train)\n",
        "#holdout_pred_2=model_2.predict(x_val)\n",
        "test_pred_2=model_2.predict(x_test)\n",
        "#holdout_pred_2=pd.DataFrame(holdout_pred_2)\n",
        "test_pred_2=pd.DataFrame(test_pred_2)\n",
        "X_test=pd.DataFrame(x_test)"
      ],
      "metadata": {
        "id": "FWgfJOrZjPCh"
      },
      "execution_count": null,
      "outputs": []
    },
    {
      "cell_type": "code",
      "source": [
        "df_test=pd.concat([test_pred_1,test_pred_2],axis=1)\n",
        "\n",
        "model = LogisticRegression()\n",
        "model.fit(df_test,y_test)\n",
        "model.score(df_test,y_test)"
      ],
      "metadata": {
        "colab": {
          "base_uri": "https://localhost:8080/"
        },
        "id": "AhVT8dgHjckP",
        "outputId": "2229f34a-12be-4c7f-a455-5729564415fd"
      },
      "execution_count": null,
      "outputs": [
        {
          "output_type": "execute_result",
          "data": {
            "text/plain": [
              "0.9047619047619048"
            ]
          },
          "metadata": {},
          "execution_count": 154
        }
      ]
    },
    {
      "cell_type": "markdown",
      "source": [
        "**Boosting**"
      ],
      "metadata": {
        "id": "kEUJ4_WcjtpC"
      }
    },
    {
      "cell_type": "code",
      "source": [
        "\n",
        "x = x\n",
        "y = y\n",
        " \n",
        "# Fitting XGBoost to the training data\n",
        "model = xgb.XGBClassifier()\n",
        "model.fit(x_train, y_train)\n",
        " \n",
        "# Predicting the Test set results\n",
        "y_pred = model.predict(x_test)\n",
        "\n",
        " \n",
        "# Making the Confusion Matrix\n",
        "C_Matrix = confusion_matrix(y_test, y_pred)"
      ],
      "metadata": {
        "id": "Hf3kAM0ijzkE"
      },
      "execution_count": null,
      "outputs": []
    },
    {
      "cell_type": "code",
      "source": [
        "print(C_Matrix)"
      ],
      "metadata": {
        "colab": {
          "base_uri": "https://localhost:8080/"
        },
        "id": "dAsx39mbkXX4",
        "outputId": "99999e7a-dc67-4b2f-f075-2ad7d343cde9"
      },
      "execution_count": null,
      "outputs": [
        {
          "output_type": "stream",
          "name": "stdout",
          "text": [
            "[[26  1  5]\n",
            " [ 2 24  0]\n",
            " [ 0  0 26]]\n"
          ]
        }
      ]
    },
    {
      "cell_type": "code",
      "source": [
        "accuracy_score(y_test, y_pred)"
      ],
      "metadata": {
        "colab": {
          "base_uri": "https://localhost:8080/"
        },
        "id": "1gknRlHOj724",
        "outputId": "1a5b9a60-38d1-4a59-e9b5-7948f19a195b"
      },
      "execution_count": null,
      "outputs": [
        {
          "output_type": "execute_result",
          "data": {
            "text/plain": [
              "0.9047619047619048"
            ]
          },
          "metadata": {},
          "execution_count": 157
        }
      ]
    }
  ]
}